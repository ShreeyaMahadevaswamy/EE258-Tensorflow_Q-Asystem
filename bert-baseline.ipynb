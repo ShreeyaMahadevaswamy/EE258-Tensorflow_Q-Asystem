{
 "cells": [
  {
   "cell_type": "code",
   "execution_count": 1,
   "metadata": {
    "_cell_guid": "b1076dfc-b9ad-4769-8c92-a6c4dae69d19",
    "_uuid": "8f2839f25d086af736a60e9eeb907d3b93b6e0e5",
    "jupyter": {
     "outputs_hidden": true
    }
   },
   "outputs": [
    {
     "name": "stdout",
     "output_type": "stream",
     "text": [
      "/kaggle/input/tensorflow2-question-answering/sample_submission.csv\n",
      "/kaggle/input/tensorflow2-question-answering/simplified-nq-test.jsonl\n",
      "/kaggle/input/tensorflow2-question-answering/simplified-nq-train.jsonl\n",
      "/kaggle/input/bert-joint-baseline/tokenization.py\n",
      "/kaggle/input/bert-joint-baseline/nq-test.tfrecords\n",
      "/kaggle/input/bert-joint-baseline/nq-train.tfrecords\n",
      "/kaggle/input/bert-joint-baseline/vocab-nq.txt\n",
      "/kaggle/input/bert-joint-baseline/model_cpkt-1.data-00001-of-00002\n",
      "/kaggle/input/bert-joint-baseline/bert_utils.py\n",
      "/kaggle/input/bert-joint-baseline/model_cpkt-1.index\n",
      "/kaggle/input/bert-joint-baseline/bert_config.json\n",
      "/kaggle/input/bert-joint-baseline/model_cpkt-1.data-00000-of-00002\n",
      "/kaggle/input/bert-joint-baseline/modeling.py\n"
     ]
    }
   ],
   "source": [
    "import numpy as np \n",
    "import pandas as pd \n",
    "import tensorflow as tf\n",
    "import sys\n",
    "import collections\n",
    "sys.path.extend(['../input/bert-joint-baseline/'])\n",
    "\n",
    "import bert_utils\n",
    "import modeling \n",
    "\n",
    "import tokenization\n",
    "import json\n",
    "\n",
    "import os\n",
    "for dirname, _, filenames in os.walk('/kaggle/input'):\n",
    "    for filename in filenames:\n",
    "        print(os.path.join(dirname, filename))\n"
   ]
  },
  {
   "cell_type": "code",
   "execution_count": 2,
   "metadata": {},
   "outputs": [],
   "source": [
    "on_kaggle_server = os.path.exists('/kaggle')\n",
    "nq_test_file = '../input/tensorflow2-question-answering/simplified-nq-test.jsonl' \n",
    "nq_train_file = '../input/tensorflow2-question-answering/simplified-nq-train.jsonl'\n",
    "public_dataset = os.path.getsize(nq_test_file)<20_000_000\n",
    "private_dataset = os.path.getsize(nq_test_file)>=20_000_000"
   ]
  },
  {
   "cell_type": "code",
   "execution_count": 3,
   "metadata": {},
   "outputs": [],
   "source": [
    "if True:\n",
    "    import importlib\n",
    "    importlib.reload(bert_utils)"
   ]
  },
  {
   "cell_type": "code",
   "execution_count": 4,
   "metadata": {
    "jupyter": {
     "outputs_hidden": true
    }
   },
   "outputs": [
    {
     "name": "stdout",
     "output_type": "stream",
     "text": [
      "{\n",
      "    \"attention_probs_dropout_prob\": 0.1,\n",
      "    \"hidden_act\": \"gelu\",\n",
      "    \"hidden_dropout_prob\": 0.1,\n",
      "    \"hidden_size\": 1024,\n",
      "    \"initializer_range\": 0.02,\n",
      "    \"intermediate_size\": 4096,\n",
      "    \"max_position_embeddings\": 512,\n",
      "    \"num_attention_heads\": 16,\n",
      "    \"num_hidden_layers\": 24,\n",
      "    \"type_vocab_size\": 2,\n",
      "    \"vocab_size\": 30522\n",
      "}\n"
     ]
    }
   ],
   "source": [
    "with open('../input/bert-joint-baseline/bert_config.json','r') as f:\n",
    "    config = json.load(f)\n",
    "print(json.dumps(config,indent=4))\n"
   ]
  },
  {
   "cell_type": "code",
   "execution_count": 5,
   "metadata": {
    "jupyter": {
     "outputs_hidden": true
    }
   },
   "outputs": [],
   "source": [
    "class TDense(tf.keras.layers.Layer):\n",
    "    def __init__(self,\n",
    "                 output_size,\n",
    "                 kernel_initializer=None,\n",
    "                 bias_initializer=\"zeros\",\n",
    "                **kwargs):\n",
    "        super().__init__(**kwargs)\n",
    "        self.output_size = output_size\n",
    "        self.kernel_initializer = kernel_initializer\n",
    "        self.bias_initializer = bias_initializer\n",
    "    def build(self,input_shape):\n",
    "        dtype = tf.as_dtype(self.dtype or tf.keras.backend.floatx())\n",
    "        if not (dtype.is_floating or dtype.is_complex):\n",
    "          raise TypeError(\"Unable to build `TDense` layer with \"\n",
    "                          \"non-floating point (and non-complex) \"\n",
    "                          \"dtype %s\" % (dtype,))\n",
    "        input_shape = tf.TensorShape(input_shape)\n",
    "        if tf.compat.dimension_value(input_shape[-1]) is None:\n",
    "          raise ValueError(\"The last dimension of the inputs to \"\n",
    "                           \"`TDense` should be defined. \"\n",
    "                           \"Found `None`.\")\n",
    "        last_dim = tf.compat.dimension_value(input_shape[-1])\n",
    "        self.input_spec = tf.keras.layers.InputSpec(min_ndim=3, axes={-1: last_dim})\n",
    "        self.kernel = self.add_weight(\n",
    "            \"kernel\",\n",
    "            shape=[self.output_size,last_dim],\n",
    "            initializer=self.kernel_initializer,\n",
    "            dtype=self.dtype,\n",
    "            trainable=True)\n",
    "        self.bias = self.add_weight(\n",
    "            \"bias\",\n",
    "            shape=[self.output_size],\n",
    "            initializer=self.bias_initializer,\n",
    "            dtype=self.dtype,\n",
    "            trainable=True)\n",
    "        super(TDense, self).build(input_shape)\n",
    "    def call(self,x):\n",
    "        return tf.matmul(x,self.kernel,transpose_b=True)+self.bias\n",
    "    \n",
    "def mk_model(config):\n",
    "    seq_len = config['max_position_embeddings']\n",
    "    unique_id  = tf.keras.Input(shape=(1,),dtype=tf.int64,name='unique_id')\n",
    "    input_ids   = tf.keras.Input(shape=(seq_len,),dtype=tf.int32,name='input_ids')\n",
    "    input_mask  = tf.keras.Input(shape=(seq_len,),dtype=tf.int32,name='input_mask')\n",
    "    segment_ids = tf.keras.Input(shape=(seq_len,),dtype=tf.int32,name='segment_ids')\n",
    "    BERT = modeling.BertModel(config=config,name='bert')\n",
    "    pooled_output, sequence_output = BERT(input_word_ids=input_ids,\n",
    "                                          input_mask=input_mask,\n",
    "                                          input_type_ids=segment_ids)\n",
    "    \n",
    "    logits = TDense(2,name='logits')(sequence_output)\n",
    "    start_logits,end_logits = tf.split(logits,axis=-1,num_or_size_splits= 2,name='split')\n",
    "    start_logits = tf.squeeze(start_logits,axis=-1,name='start_squeeze')\n",
    "    end_logits   = tf.squeeze(end_logits,  axis=-1,name='end_squeeze')\n",
    "    \n",
    "    ans_type      = TDense(5,name='ans_type')(pooled_output)\n",
    "    return tf.keras.Model([input_ for input_ in [unique_id,input_ids,input_mask,segment_ids] \n",
    "                           if input_ is not None],\n",
    "                          [unique_id,start_logits,end_logits,ans_type],\n",
    "                          name='bert-baseline')    "
   ]
  },
  {
   "cell_type": "code",
   "execution_count": 6,
   "metadata": {
    "jupyter": {
     "outputs_hidden": true
    }
   },
   "outputs": [
    {
     "data": {
      "text/plain": [
       "{'attention_probs_dropout_prob': 0.1,\n",
       " 'hidden_act': 'gelu',\n",
       " 'hidden_dropout_prob': 0.1,\n",
       " 'hidden_size': 64,\n",
       " 'initializer_range': 0.02,\n",
       " 'intermediate_size': 256,\n",
       " 'max_position_embeddings': 32,\n",
       " 'num_attention_heads': 4,\n",
       " 'num_hidden_layers': 4,\n",
       " 'type_vocab_size': 2,\n",
       " 'vocab_size': 16}"
      ]
     },
     "execution_count": 6,
     "metadata": {},
     "output_type": "execute_result"
    }
   ],
   "source": [
    "small_config = config.copy()\n",
    "small_config['vocab_size']=16\n",
    "small_config['hidden_size']=64\n",
    "small_config['max_position_embeddings'] = 32\n",
    "small_config['num_hidden_layers'] = 4\n",
    "small_config['num_attention_heads'] = 4\n",
    "small_config['intermediate_size'] = 256\n",
    "small_config"
   ]
  },
  {
   "cell_type": "code",
   "execution_count": 7,
   "metadata": {
    "jupyter": {
     "outputs_hidden": true
    }
   },
   "outputs": [],
   "source": [
    "model= mk_model(config)"
   ]
  },
  {
   "cell_type": "code",
   "execution_count": 8,
   "metadata": {
    "jupyter": {
     "outputs_hidden": true
    }
   },
   "outputs": [
    {
     "name": "stdout",
     "output_type": "stream",
     "text": [
      "Model: \"bert-baseline\"\n",
      "__________________________________________________________________________________________________\n",
      "Layer (type)                    Output Shape         Param #     Connected to                     \n",
      "==================================================================================================\n",
      "input_ids (InputLayer)          [(None, 512)]        0                                            \n",
      "__________________________________________________________________________________________________\n",
      "input_mask (InputLayer)         [(None, 512)]        0                                            \n",
      "__________________________________________________________________________________________________\n",
      "segment_ids (InputLayer)        [(None, 512)]        0                                            \n",
      "__________________________________________________________________________________________________\n",
      "bert (BertModel)                ((None, 1024), (None 335141888   input_ids[0][0]                  \n",
      "                                                                 input_mask[0][0]                 \n",
      "                                                                 segment_ids[0][0]                \n",
      "__________________________________________________________________________________________________\n",
      "logits (TDense)                 (None, 512, 2)       2050        bert[0][1]                       \n",
      "__________________________________________________________________________________________________\n",
      "tf_op_layer_split (TensorFlowOp [(None, 512, 1), (No 0           logits[0][0]                     \n",
      "__________________________________________________________________________________________________\n",
      "unique_id (InputLayer)          [(None, 1)]          0                                            \n",
      "__________________________________________________________________________________________________\n",
      "tf_op_layer_start_squeeze (Tens [(None, 512)]        0           tf_op_layer_split[0][0]          \n",
      "__________________________________________________________________________________________________\n",
      "tf_op_layer_end_squeeze (Tensor [(None, 512)]        0           tf_op_layer_split[0][1]          \n",
      "__________________________________________________________________________________________________\n",
      "ans_type (TDense)               (None, 5)            5125        bert[0][0]                       \n",
      "==================================================================================================\n",
      "Total params: 335,149,063\n",
      "Trainable params: 335,149,063\n",
      "Non-trainable params: 0\n",
      "__________________________________________________________________________________________________\n"
     ]
    }
   ],
   "source": [
    "model.summary()"
   ]
  },
  {
   "cell_type": "code",
   "execution_count": 9,
   "metadata": {
    "jupyter": {
     "outputs_hidden": true
    }
   },
   "outputs": [
    {
     "data": {
      "text/plain": [
       "<tensorflow.python.training.tracking.util.CheckpointLoadStatus at 0x7f43a54be9e8>"
      ]
     },
     "execution_count": 9,
     "metadata": {},
     "output_type": "execute_result"
    }
   ],
   "source": [
    "cpkt = tf.train.Checkpoint(model=model)\n",
    "cpkt.restore('../input/bert-joint-baseline/model_cpkt-1').assert_consumed()"
   ]
  },
  {
   "cell_type": "code",
   "execution_count": 10,
   "metadata": {},
   "outputs": [],
   "source": [
    "class DummyObject:\n",
    "    def __init__(self,**kwargs):\n",
    "        self.__dict__.update(kwargs)\n",
    "\n",
    "FLAGS=DummyObject(skip_nested_contexts=True,\n",
    "                 max_position=50,\n",
    "                 max_contexts=48,\n",
    "                 max_query_length=64,\n",
    "                 max_seq_length=512,\n",
    "                 doc_stride=128,\n",
    "                 include_unknowns=-1.0,\n",
    "                 n_best_size=20,\n",
    "                 max_answer_length=30)"
   ]
  },
  {
   "cell_type": "code",
   "execution_count": 11,
   "metadata": {},
   "outputs": [],
   "source": [
    "import tqdm\n",
    "eval_records = \"../input/bert-joint-baseline/nq-test.tfrecords\"\n",
    "#nq_test_file = '../input/tensorflow2-question-answering/simplified-nq-test.jsonl'\n",
    "if on_kaggle_server and private_dataset:\n",
    "    eval_records='nq-test.tfrecords'\n",
    "if not os.path.exists(eval_records):\n",
    "    # tf2baseline.FLAGS.max_seq_length = 512\n",
    "    eval_writer = bert_utils.FeatureWriter(\n",
    "        filename=os.path.join(eval_records),\n",
    "        is_training=False)\n",
    "\n",
    "    tokenizer = tokenization.FullTokenizer(vocab_file='../input/bert-joint-baseline/vocab-nq.txt', \n",
    "                                           do_lower_case=True)\n",
    "\n",
    "    features = []\n",
    "    convert = bert_utils.ConvertExamples2Features(tokenizer=tokenizer,\n",
    "                                                   is_training=False,\n",
    "                                                   output_fn=eval_writer.process_feature,\n",
    "                                                   collect_stat=False)\n",
    "\n",
    "    n_examples = 0\n",
    "    tqdm_notebook= tqdm.tqdm_notebook if not on_kaggle_server else None\n",
    "    for examples in bert_utils.nq_examples_iter(input_file=nq_test_file, \n",
    "                                           is_training=False,\n",
    "                                           tqdm=tqdm_notebook):\n",
    "        for example in examples:\n",
    "            n_examples += convert(example)\n",
    "\n",
    "    eval_writer.close()\n",
    "    print('number of test examples: %d, written to file: %d' % (n_examples,eval_writer.num_features))"
   ]
  },
  {
   "cell_type": "code",
   "execution_count": 12,
   "metadata": {
    "jupyter": {
     "outputs_hidden": true
    }
   },
   "outputs": [],
   "source": [
    "seq_length = FLAGS.max_seq_length #config['max_position_embeddings']\n",
    "name_to_features = {\n",
    "      \"unique_id\": tf.io.FixedLenFeature([], tf.int64),\n",
    "      \"input_ids\": tf.io.FixedLenFeature([seq_length], tf.int64),\n",
    "      \"input_mask\": tf.io.FixedLenFeature([seq_length], tf.int64),\n",
    "      \"segment_ids\": tf.io.FixedLenFeature([seq_length], tf.int64),\n",
    "  }\n",
    "\n",
    "def _decode_record(record, name_to_features=name_to_features):\n",
    "    \"\"\"Decodes a record to a TensorFlow example.\"\"\"\n",
    "    example = tf.io.parse_single_example(serialized=record, features=name_to_features)\n",
    "\n",
    "    # tf.Example only supports tf.int64, but the TPU only supports tf.int32.\n",
    "    # So cast all int64 to int32.\n",
    "    for name in list(example.keys()):\n",
    "        t = example[name]\n",
    "        if name != 'unique_id': #t.dtype == tf.int64:\n",
    "            t = tf.cast(t, dtype=tf.int32)\n",
    "        example[name] = t\n",
    "\n",
    "    return example\n",
    "\n",
    "def _decode_tokens(record):\n",
    "    return tf.io.parse_single_example(serialized=record, \n",
    "                                      features={\n",
    "                                          \"unique_id\": tf.io.FixedLenFeature([], tf.int64),\n",
    "                                          \"token_map\" :  tf.io.FixedLenFeature([seq_length], tf.int64)\n",
    "                                      })\n",
    "      \n"
   ]
  },
  {
   "cell_type": "code",
   "execution_count": 13,
   "metadata": {
    "jupyter": {
     "outputs_hidden": true
    }
   },
   "outputs": [],
   "source": [
    "raw_ds = tf.data.TFRecordDataset(eval_records)\n",
    "token_map_ds = raw_ds.map(_decode_tokens)\n",
    "decoded_ds = raw_ds.map(_decode_record)\n",
    "ds = decoded_ds.batch(batch_size=16,drop_remainder=False)"
   ]
  },
  {
   "cell_type": "code",
   "execution_count": 14,
   "metadata": {},
   "outputs": [
    {
     "name": "stdout",
     "output_type": "stream",
     "text": [
      "    567/Unknown - 624s 1s/step"
     ]
    }
   ],
   "source": [
    "result=model.predict_generator(ds,verbose=1)"
   ]
  },
  {
   "cell_type": "code",
   "execution_count": 15,
   "metadata": {},
   "outputs": [],
   "source": [
    "np.savez_compressed('bert-joint-baseline-output.npz',\n",
    "                    **dict(zip(['uniqe_id','start_logits','end_logits','answer_type_logits'],\n",
    "                               result)))"
   ]
  },
  {
   "cell_type": "code",
   "execution_count": 16,
   "metadata": {},
   "outputs": [],
   "source": [
    "Span = collections.namedtuple(\"Span\", [\"start_token_idx\", \"end_token_idx\"])"
   ]
  },
  {
   "cell_type": "code",
   "execution_count": 17,
   "metadata": {},
   "outputs": [],
   "source": [
    "class ScoreSummary(object):\n",
    "  def __init__(self):\n",
    "    self.predicted_label = None\n",
    "    self.short_span_score = None\n",
    "    self.cls_token_score = None\n",
    "    self.answer_type_logits = None"
   ]
  },
  {
   "cell_type": "code",
   "execution_count": 18,
   "metadata": {},
   "outputs": [],
   "source": [
    "class EvalExample(object):\n",
    "  \"\"\"Eval data available for a single example.\"\"\"\n",
    "  def __init__(self, example_id, candidates):\n",
    "    self.example_id = example_id\n",
    "    self.candidates = candidates\n",
    "    self.results = {}\n",
    "    self.features = {}"
   ]
  },
  {
   "cell_type": "code",
   "execution_count": 19,
   "metadata": {},
   "outputs": [],
   "source": [
    "def get_best_indexes(logits, n_best_size):\n",
    "  \"\"\"Get the n-best logits from a list.\"\"\"\n",
    "  index_and_score = sorted(\n",
    "      enumerate(logits[1:], 1), key=lambda x: x[1], reverse=True)\n",
    "  best_indexes = []\n",
    "  for i in range(len(index_and_score)):\n",
    "    if i >= n_best_size:\n",
    "      break\n",
    "    best_indexes.append(index_and_score[i][0])\n",
    "  return best_indexes\n",
    "\n",
    "def top_k_indices(logits,n_best_size,token_map):\n",
    "    indices = np.argsort(logits[1:])+1\n",
    "    indices = indices[token_map[indices]!=-1]\n",
    "    return indices[-n_best_size:]"
   ]
  },
  {
   "cell_type": "code",
   "execution_count": 20,
   "metadata": {},
   "outputs": [],
   "source": [
    "def compute_predictions(example):\n",
    "  \"\"\"Converts an example into an NQEval object for evaluation.\"\"\"\n",
    "  predictions = []\n",
    "  n_best_size = FLAGS.n_best_size\n",
    "  max_answer_length = FLAGS.max_answer_length\n",
    "  i = 0\n",
    "  for unique_id, result in example.results.items():\n",
    "    if unique_id not in example.features:\n",
    "      raise ValueError(\"No feature found with unique_id:\", unique_id)\n",
    "    token_map = np.array(example.features[unique_id][\"token_map\"]) #.int64_list.value\n",
    "    start_indexes = top_k_indices(result.start_logits,n_best_size,token_map)\n",
    "    if len(start_indexes)==0:\n",
    "        continue\n",
    "    end_indexes   = top_k_indices(result.end_logits,n_best_size,token_map)\n",
    "    if len(end_indexes)==0:\n",
    "        continue\n",
    "    indexes = np.array(list(np.broadcast(start_indexes[None],end_indexes[:,None])))  \n",
    "    indexes = indexes[(indexes[:,0]<indexes[:,1])*(indexes[:,1]-indexes[:,0]<max_answer_length)]\n",
    "    for start_index,end_index in indexes:\n",
    "        summary = ScoreSummary()\n",
    "        summary.short_span_score = (\n",
    "            result.start_logits[start_index] +\n",
    "            result.end_logits[end_index])\n",
    "        summary.cls_token_score = (\n",
    "            result.start_logits[0] + result.end_logits[0])\n",
    "        summary.answer_type_logits = result.answer_type_logits-result.answer_type_logits.mean()\n",
    "        start_span = token_map[start_index]\n",
    "        end_span = token_map[end_index] + 1\n",
    "\n",
    "        # Span logits minus the cls logits seems to be close to the best.\n",
    "        score = summary.short_span_score - summary.cls_token_score\n",
    "        predictions.append((score, i, summary, start_span, end_span))\n",
    "        i += 1 # to break ties\n",
    "\n",
    "  # Default empty prediction.\n",
    "  score = -10000.0\n",
    "  short_span = Span(-1, -1)\n",
    "  long_span  = Span(-1, -1)\n",
    "  summary    = ScoreSummary()\n",
    "\n",
    "  if predictions:\n",
    "    score, _, summary, start_span, end_span = sorted(predictions, reverse=True)[0]\n",
    "    short_span = Span(start_span, end_span)\n",
    "    for c in example.candidates:\n",
    "      start = short_span.start_token_idx\n",
    "      end = short_span.end_token_idx\n",
    "      ## print(c['top_level'],c['start_token'],start,c['end_token'],end)\n",
    "      if c[\"top_level\"] and c[\"start_token\"] <= start and c[\"end_token\"] >= end:\n",
    "        long_span = Span(c[\"start_token\"], c[\"end_token\"])\n",
    "        break\n",
    "\n",
    "  summary.predicted_label = {\n",
    "      \"example_id\": int(example.example_id),\n",
    "      \"long_answer\": {\n",
    "          \"start_token\": int(long_span.start_token_idx),\n",
    "          \"end_token\": int(long_span.end_token_idx),\n",
    "          \"start_byte\": -1,\n",
    "          \"end_byte\": -1\n",
    "      },\n",
    "      \"long_answer_score\": float(score),\n",
    "      \"short_answers\": [{\n",
    "          \"start_token\": int(short_span.start_token_idx),\n",
    "          \"end_token\": int(short_span.end_token_idx),\n",
    "          \"start_byte\": -1,\n",
    "          \"end_byte\": -1\n",
    "      }],\n",
    "      \"short_answer_score\": float(score),\n",
    "      \"yes_no_answer\": \"NONE\",\n",
    "      \"answer_type_logits\": summary.answer_type_logits.tolist(),\n",
    "      \"answer_type\": int(np.argmax(summary.answer_type_logits))\n",
    "  }\n",
    "\n",
    "  return summary"
   ]
  },
  {
   "cell_type": "code",
   "execution_count": 21,
   "metadata": {},
   "outputs": [],
   "source": [
    "def compute_pred_dict(candidates_dict, dev_features, raw_results,tqdm=None):\n",
    "    \"\"\"Computes official answer key from raw logits.\"\"\"\n",
    "    raw_results_by_id = [(int(res.unique_id),1, res) for res in raw_results]\n",
    "\n",
    "    examples_by_id = [(int(k),0,v) for k, v in candidates_dict.items()]\n",
    "  \n",
    "    features_by_id = [(int(d['unique_id']),2,d) for d in dev_features] \n",
    "  \n",
    "    # Join examples with features and raw results.\n",
    "    examples = []\n",
    "    print('merging examples...')\n",
    "    merged = sorted(examples_by_id + raw_results_by_id + features_by_id)\n",
    "    print('done.')\n",
    "    for idx, type_, datum in merged:\n",
    "        if type_==0: #isinstance(datum, list):\n",
    "            examples.append(EvalExample(idx, datum))\n",
    "        elif type_==2: #\"token_map\" in datum:\n",
    "            examples[-1].features[idx] = datum\n",
    "        else:\n",
    "            examples[-1].results[idx] = datum\n",
    "\n",
    "    # Construct prediction objects.\n",
    "    print('Computing predictions...')\n",
    "   \n",
    "    nq_pred_dict = {}\n",
    "    #summary_dict = {}\n",
    "    if tqdm is not None:\n",
    "        examples = tqdm(examples)\n",
    "    for e in examples:\n",
    "        summary = compute_predictions(e)\n",
    "        #summary_dict[e.example_id] = summary\n",
    "        nq_pred_dict[e.example_id] = summary.predicted_label\n",
    "\n",
    "    return nq_pred_dict\n"
   ]
  },
  {
   "cell_type": "code",
   "execution_count": 22,
   "metadata": {},
   "outputs": [],
   "source": [
    "def read_candidates_from_one_split(input_path):\n",
    "  \"\"\"Read candidates from a single jsonl file.\"\"\"\n",
    "  candidates_dict = {}\n",
    "  print(\"Reading examples from: %s\" % input_path)\n",
    "  if input_path.endswith(\".gz\"):\n",
    "    with gzip.GzipFile(fileobj=tf.io.gfile.GFile(input_path, \"rb\")) as input_file:\n",
    "      for index, line in enumerate(input_file):\n",
    "        e = json.loads(line)\n",
    "        candidates_dict[e[\"example_id\"]] = e[\"long_answer_candidates\"]\n",
    "        \n",
    "  else:\n",
    "    with tf.io.gfile.GFile(input_path, \"r\") as input_file:\n",
    "      for index, line in enumerate(input_file):\n",
    "        e = json.loads(line)\n",
    "        candidates_dict[e[\"example_id\"]] = e[\"long_answer_candidates\"]\n",
    "        # candidates_dict['question'] = e['question_text']\n",
    "  return candidates_dict"
   ]
  },
  {
   "cell_type": "code",
   "execution_count": 23,
   "metadata": {},
   "outputs": [],
   "source": [
    "def read_candidates(input_pattern):\n",
    "  \"\"\"Read candidates with real multiple processes.\"\"\"\n",
    "  input_paths = tf.io.gfile.glob(input_pattern)\n",
    "  final_dict = {}\n",
    "  for input_path in input_paths:\n",
    "    final_dict.update(read_candidates_from_one_split(input_path))\n",
    "  return final_dict"
   ]
  },
  {
   "cell_type": "code",
   "execution_count": 24,
   "metadata": {},
   "outputs": [
    {
     "name": "stdout",
     "output_type": "stream",
     "text": [
      "Going to candidates file\n",
      "Reading examples from: ../input/tensorflow2-question-answering/simplified-nq-test.jsonl\n",
      "setting up eval features\n",
      "compute_pred_dict\n",
      "merging examples...\n",
      "done.\n",
      "Computing predictions...\n"
     ]
    },
    {
     "data": {
      "application/vnd.jupyter.widget-view+json": {
       "model_id": "1ea21c8373b742dba94f899a05faa67b",
       "version_major": 2,
       "version_minor": 0
      },
      "text/plain": [
       "HBox(children=(IntProgress(value=0, max=346), HTML(value='')))"
      ]
     },
     "metadata": {},
     "output_type": "display_data"
    },
    {
     "name": "stdout",
     "output_type": "stream",
     "text": [
      "\n",
      "writing json\n"
     ]
    }
   ],
   "source": [
    "all_results = [bert_utils.RawResult(*x) for x in zip(*result)]\n",
    "    \n",
    "print (\"Going to candidates file\")\n",
    "\n",
    "candidates_dict = read_candidates('../input/tensorflow2-question-answering/simplified-nq-test.jsonl')\n",
    "\n",
    "print (\"setting up eval features\")\n",
    "\n",
    "eval_features = list(token_map_ds)\n",
    "\n",
    "print (\"compute_pred_dict\")\n",
    "\n",
    "tqdm_notebook= tqdm.tqdm_notebook\n",
    "nq_pred_dict = compute_pred_dict(candidates_dict, \n",
    "                                       eval_features,\n",
    "                                       all_results,\n",
    "                                      tqdm=tqdm_notebook)\n",
    "\n",
    "predictions_json = {\"predictions\": list(nq_pred_dict.values())}\n",
    "\n",
    "print (\"writing json\")\n",
    "\n",
    "with tf.io.gfile.GFile('predictions.json', \"w\") as f:\n",
    "    json.dump(predictions_json, f, indent=4)"
   ]
  },
  {
   "cell_type": "code",
   "execution_count": 25,
   "metadata": {},
   "outputs": [],
   "source": [
    "def create_short_answer(entry):\n",
    "    answer = []    \n",
    "#     if entry['answer_type'] == 0:\n",
    "#         return \"\"\n",
    "    \n",
    "    if entry['answer_type'] == 1:\n",
    "        return 'YES'\n",
    "    \n",
    "    elif entry['answer_type'] == 2:\n",
    "        return 'NO'\n",
    "        \n",
    "    #elif entry[\"short_answer_score\"] < 0.5:\n",
    "    #    return \"\"\n",
    "    \n",
    "    else:\n",
    "        for short_answer in entry[\"short_answers\"]:\n",
    "            if short_answer[\"start_token\"] > -1:\n",
    "                answer.append(str(short_answer[\"start_token\"]) + \":\" + str(short_answer[\"end_token\"]))\n",
    "    \n",
    "        return \" \".join(answer)\n",
    "\n",
    "def create_long_answer(entry):\n",
    "    \n",
    "    answer = []\n",
    "    \n",
    "#     if entry['answer_type'] == 0:\n",
    "#         return \"\"\n",
    "    \n",
    "    #elif entry[\"long_answer_score\"] < 0.5:\n",
    "    #    return \"\"\n",
    "\n",
    "    if entry[\"long_answer\"][\"start_token\"] > -1:\n",
    "        answer.append(str(entry[\"long_answer\"][\"start_token\"]) + \":\" + str(entry[\"long_answer\"][\"end_token\"]))\n",
    "        return \" \".join(answer)"
   ]
  },
  {
   "cell_type": "code",
   "execution_count": 26,
   "metadata": {},
   "outputs": [],
   "source": [
    "test_answers_df = pd.read_json(\"../working/predictions.json\")"
   ]
  },
  {
   "cell_type": "code",
   "execution_count": 27,
   "metadata": {},
   "outputs": [],
   "source": [
    "from collections import defaultdict\n",
    "\n",
    "answer_types = defaultdict(list)\n",
    "for idx in range(test_answers_df.shape[0]):\n",
    "    entry = test_answers_df.at[idx, 'predictions']\n",
    "    answer_types[entry['answer_type']].append(idx)"
   ]
  },
  {
   "cell_type": "code",
   "execution_count": 28,
   "metadata": {},
   "outputs": [],
   "source": [
    "import json\n",
    "\n",
    "import numpy as np\n",
    "import pandas as pd\n",
    "from tqdm import tqdm\n",
    "\n",
    "\n",
    "def jsonl_to_df(file_path, n_rows=-1, load_annotations=True, truncate=True, offset=200):\n",
    "    \"\"\"\n",
    "    Simple utility function to load the .jsonl files for the \n",
    "    TF2.0 QA competition. It creates a dataframe of the dataset.\n",
    "    \n",
    "    To use, click \"File\" > \"Add utility script\", search the name of this \n",
    "    notebook, then run:\n",
    "    \n",
    "    >>> from tf_qa_jsonl_to_dataframe import jsonl_to_df\n",
    "    >>> train = jsonl_to_df(\"/kaggle/...train.jsonl\")\n",
    "    >>> test = jsonl_to_df(\"/kaggle/...test.jsonl\", load_annotations=False)\n",
    "    \n",
    "    Parameters:\n",
    "        * file_path (str): The path to your json_file\n",
    "        * n_rows (int): The number of rows you are importing. Set value to -1 if you want to import everything.\n",
    "        * load_annotations (bool): Whether to load annotations (for training data) or not (test set does not have\n",
    "          annotations).\n",
    "        * truncate: Whether to cut the text before the first answer (long or short)\n",
    "          and after the last answer (long or short), leaving a space for the offset\n",
    "        * offset: If offset = k, then keep only keep the interval (answer_start - k, answer_end + k)\n",
    "        \n",
    "    Returns:\n",
    "        A Dataframe containing the following columns:\n",
    "            * document_text (str): The document split by whitespace, possibly truncated\n",
    "            * question_text (str): the question posed\n",
    "            * yes_no_answer (str): Could be \"YES\", \"NO\", or \"NONE\"\n",
    "            * short_answer_start (int): Start index of token, -1 if does not exist\n",
    "            * short_answer_end (int): End index of token, -1 if does not exist\n",
    "            * long_answer_start (int): Start index of token, -1 if does not exist\n",
    "            * long_answer_end (int): End index of token, -1 if does not exist\n",
    "            * example_id (str): ID representing the string.\n",
    "    \n",
    "    Author: @xhlulu\n",
    "    Source: https://www.kaggle.com/xhlulu/tf-qa-jsonl-to-dataframe\n",
    "    \"\"\"\n",
    "    json_lines = []\n",
    "    \n",
    "    with open(file_path) as f:\n",
    "        for i, line in tqdm(enumerate(f)):\n",
    "            if i == n_rows:\n",
    "                break\n",
    "            \n",
    "            line = json.loads(line)\n",
    "            last_token = line['long_answer_candidates'][-1]['end_token']\n",
    "\n",
    "            out_di = {\n",
    "                'document_text': line['document_text'],\n",
    "                'question_text': line['question_text']\n",
    "            }\n",
    "            \n",
    "            if 'example_id' in line:\n",
    "                out_di['example_id'] = line['example_id']\n",
    "            \n",
    "            if load_annotations:\n",
    "                annot = line['annotations'][0]\n",
    "                \n",
    "                out_di['yes_no_answer'] = annot['yes_no_answer']\n",
    "                out_di['long_answer_start'] = annot['long_answer']['start_token']\n",
    "                out_di['long_answer_end'] = annot['long_answer']['end_token']\n",
    "\n",
    "                if len(annot['short_answers']) > 0:\n",
    "                    out_di['short_answer_start'] = annot['short_answers'][0]['start_token']\n",
    "                    out_di['short_answer_end'] = annot['short_answers'][0]['end_token']\n",
    "                else:\n",
    "                    out_di['short_answer_start'] = -1\n",
    "                    out_di['short_answer_end'] = -1\n",
    "\n",
    "                if truncate:\n",
    "                    if out_di['long_answer_start'] == -1:\n",
    "                        start_threshold = out_di['short_answer_start'] - offset\n",
    "                    elif out_di['short_answer_start'] == -1:\n",
    "                        start_threshold = out_di['long_answer_start'] - offset\n",
    "                    else:\n",
    "                        start_threshold = min(out_di['long_answer_start'], out_di['short_answer_start']) - offset\n",
    "                        \n",
    "                    start_threshold = max(0, start_threshold)\n",
    "                    end_threshold = max(out_di['long_answer_end'], out_di['short_answer_end']) + offset + 1\n",
    "                    \n",
    "                    out_di['document_text'] = \" \".join(\n",
    "                        out_di['document_text'].split(' ')[start_threshold:end_threshold]\n",
    "                    )\n",
    "\n",
    "            json_lines.append(out_di)\n",
    "\n",
    "    df = pd.DataFrame(json_lines).fillna(-1)\n",
    "    \n",
    "    return df"
   ]
  },
  {
   "cell_type": "code",
   "execution_count": 29,
   "metadata": {},
   "outputs": [
    {
     "name": "stderr",
     "output_type": "stream",
     "text": [
      "346it [00:00, 1993.64it/s]\n"
     ]
    }
   ],
   "source": [
    "directory = '/kaggle/input/tensorflow2-question-answering/'\n",
    "test = jsonl_to_df(directory + 'simplified-nq-test.jsonl', load_annotations=False, n_rows=-1)"
   ]
  },
  {
   "cell_type": "code",
   "execution_count": 30,
   "metadata": {},
   "outputs": [],
   "source": [
    "test_answers_df = pd.read_json(\"../working/predictions.json\")\n",
    "for var_name in ['long_answer_score','short_answer_score','answer_type']:\n",
    "    test_answers_df[var_name] = test_answers_df['predictions'].apply(lambda q: q[var_name])\n",
    "test_answers_df[\"long_answer\"] = test_answers_df[\"predictions\"].apply(create_long_answer)\n",
    "test_answers_df[\"short_answer\"] = test_answers_df[\"predictions\"].apply(create_short_answer)\n",
    "test_answers_df[\"example_id\"] = test_answers_df[\"predictions\"].apply(lambda q: str(q[\"example_id\"]))\n",
    "\n",
    "long_answers = dict(zip(test_answers_df[\"example_id\"], test_answers_df[\"long_answer\"]))\n",
    "short_answers = dict(zip(test_answers_df[\"example_id\"], test_answers_df[\"short_answer\"]))"
   ]
  },
  {
   "cell_type": "code",
   "execution_count": 31,
   "metadata": {},
   "outputs": [],
   "source": [
    "sample_submission = pd.read_csv(\"../input/tensorflow2-question-answering/sample_submission.csv\")\n",
    "\n",
    "long_prediction_strings = sample_submission[sample_submission[\"example_id\"].str.contains(\"_long\")].apply(lambda q: long_answers[q[\"example_id\"].replace(\"_long\", \"\")], axis=1)\n",
    "short_prediction_strings = sample_submission[sample_submission[\"example_id\"].str.contains(\"_short\")].apply(lambda q: short_answers[q[\"example_id\"].replace(\"_short\", \"\")], axis=1)\n",
    "\n",
    "sample_submission.loc[sample_submission[\"example_id\"].str.contains(\"_long\"), \"PredictionString\"] = long_prediction_strings\n",
    "sample_submission.loc[sample_submission[\"example_id\"].str.contains(\"_short\"), \"PredictionString\"] = short_prediction_strings\n"
   ]
  },
  {
   "cell_type": "code",
   "execution_count": 32,
   "metadata": {},
   "outputs": [
    {
     "data": {
      "text/html": [
       "<div>\n",
       "<style scoped>\n",
       "    .dataframe tbody tr th:only-of-type {\n",
       "        vertical-align: middle;\n",
       "    }\n",
       "\n",
       "    .dataframe tbody tr th {\n",
       "        vertical-align: top;\n",
       "    }\n",
       "\n",
       "    .dataframe thead th {\n",
       "        text-align: right;\n",
       "    }\n",
       "</style>\n",
       "<table border=\"1\" class=\"dataframe\">\n",
       "  <thead>\n",
       "    <tr style=\"text-align: right;\">\n",
       "      <th></th>\n",
       "      <th>document_text</th>\n",
       "      <th>question_text</th>\n",
       "      <th>example_id</th>\n",
       "    </tr>\n",
       "  </thead>\n",
       "  <tbody>\n",
       "    <tr>\n",
       "      <th>115</th>\n",
       "      <td>Legal status of the Universal Life Church - wi...</td>\n",
       "      <td>are universal life church marriages legal in n...</td>\n",
       "      <td>-8260765274544672220</td>\n",
       "    </tr>\n",
       "    <tr>\n",
       "      <th>158</th>\n",
       "      <td>Minute Maid - wikipedia &lt;H1&gt; Minute Maid &lt;/H1&gt;...</td>\n",
       "      <td>does minute maid orange juice have to be refri...</td>\n",
       "      <td>-871487000194429353</td>\n",
       "    </tr>\n",
       "    <tr>\n",
       "      <th>243</th>\n",
       "      <td>In - N - Out Burger - Wikipedia &lt;H1&gt; In - N - ...</td>\n",
       "      <td>is there an in n out burger in hawaii</td>\n",
       "      <td>-1651666484583736653</td>\n",
       "    </tr>\n",
       "    <tr>\n",
       "      <th>294</th>\n",
       "      <td>TJ Maxx - Wikipedia &lt;H1&gt; TJ Maxx &lt;/H1&gt; &lt;P&gt; &lt;/P...</td>\n",
       "      <td>is marshalls and tj maxx the same store</td>\n",
       "      <td>-3461207570097431362</td>\n",
       "    </tr>\n",
       "    <tr>\n",
       "      <th>332</th>\n",
       "      <td>Money market - wikipedia &lt;H1&gt; Money market &lt;/H...</td>\n",
       "      <td>money market instruments are securities a. wit...</td>\n",
       "      <td>5962215690907729115</td>\n",
       "    </tr>\n",
       "  </tbody>\n",
       "</table>\n",
       "</div>"
      ],
      "text/plain": [
       "                                         document_text  \\\n",
       "115  Legal status of the Universal Life Church - wi...   \n",
       "158  Minute Maid - wikipedia <H1> Minute Maid </H1>...   \n",
       "243  In - N - Out Burger - Wikipedia <H1> In - N - ...   \n",
       "294  TJ Maxx - Wikipedia <H1> TJ Maxx </H1> <P> </P...   \n",
       "332  Money market - wikipedia <H1> Money market </H...   \n",
       "\n",
       "                                         question_text            example_id  \n",
       "115  are universal life church marriages legal in n...  -8260765274544672220  \n",
       "158  does minute maid orange juice have to be refri...   -871487000194429353  \n",
       "243              is there an in n out burger in hawaii  -1651666484583736653  \n",
       "294            is marshalls and tj maxx the same store  -3461207570097431362  \n",
       "332  money market instruments are securities a. wit...   5962215690907729115  "
      ]
     },
     "execution_count": 32,
     "metadata": {},
     "output_type": "execute_result"
    }
   ],
   "source": [
    "test[test.example_id.apply(lambda x: x in sample_submission[sample_submission.PredictionString=='YES'].example_id.apply(lambda x: x[:-6]).values)]"
   ]
  },
  {
   "cell_type": "code",
   "execution_count": 33,
   "metadata": {},
   "outputs": [
    {
     "data": {
      "text/html": [
       "<div>\n",
       "<style scoped>\n",
       "    .dataframe tbody tr th:only-of-type {\n",
       "        vertical-align: middle;\n",
       "    }\n",
       "\n",
       "    .dataframe tbody tr th {\n",
       "        vertical-align: top;\n",
       "    }\n",
       "\n",
       "    .dataframe thead th {\n",
       "        text-align: right;\n",
       "    }\n",
       "</style>\n",
       "<table border=\"1\" class=\"dataframe\">\n",
       "  <thead>\n",
       "    <tr style=\"text-align: right;\">\n",
       "      <th></th>\n",
       "      <th>document_text</th>\n",
       "      <th>question_text</th>\n",
       "      <th>example_id</th>\n",
       "    </tr>\n",
       "  </thead>\n",
       "  <tbody>\n",
       "    <tr>\n",
       "      <th>214</th>\n",
       "      <td>Photography and the law - wikipedia &lt;H1&gt; Photo...</td>\n",
       "      <td>is it legal to take pictures of people's cars</td>\n",
       "      <td>418890410382116795</td>\n",
       "    </tr>\n",
       "  </tbody>\n",
       "</table>\n",
       "</div>"
      ],
      "text/plain": [
       "                                         document_text  \\\n",
       "214  Photography and the law - wikipedia <H1> Photo...   \n",
       "\n",
       "                                     question_text          example_id  \n",
       "214  is it legal to take pictures of people's cars  418890410382116795  "
      ]
     },
     "execution_count": 33,
     "metadata": {},
     "output_type": "execute_result"
    }
   ],
   "source": [
    "test[test.example_id.apply(lambda x: x in sample_submission[sample_submission.PredictionString=='NO'].example_id.apply(lambda x: x[:-6]).values)]"
   ]
  },
  {
   "cell_type": "code",
   "execution_count": 34,
   "metadata": {},
   "outputs": [],
   "source": [
    "sample_submission.to_csv(\"submission.csv\", index=False)"
   ]
  }
 ],
 "metadata": {
  "kernelspec": {
   "display_name": "Python 3",
   "language": "python",
   "name": "python3"
  },
  "language_info": {
   "codemirror_mode": {
    "name": "ipython",
    "version": 3
   },
   "file_extension": ".py",
   "mimetype": "text/x-python",
   "name": "python",
   "nbconvert_exporter": "python",
   "pygments_lexer": "ipython3",
   "version": "3.6.6"
  },
  "widgets": {
   "application/vnd.jupyter.widget-state+json": {
    "state": {
     "089eaef2bc07496796928884ed36ad19": {
      "model_module": "@jupyter-widgets/controls",
      "model_module_version": "1.5.0",
      "model_name": "ProgressStyleModel",
      "state": {
       "_model_module": "@jupyter-widgets/controls",
       "_model_module_version": "1.5.0",
       "_model_name": "ProgressStyleModel",
       "_view_count": null,
       "_view_module": "@jupyter-widgets/base",
       "_view_module_version": "1.2.0",
       "_view_name": "StyleView",
       "bar_color": null,
       "description_width": "initial"
      }
     },
     "1ea21c8373b742dba94f899a05faa67b": {
      "model_module": "@jupyter-widgets/controls",
      "model_module_version": "1.5.0",
      "model_name": "HBoxModel",
      "state": {
       "_dom_classes": [],
       "_model_module": "@jupyter-widgets/controls",
       "_model_module_version": "1.5.0",
       "_model_name": "HBoxModel",
       "_view_count": null,
       "_view_module": "@jupyter-widgets/controls",
       "_view_module_version": "1.5.0",
       "_view_name": "HBoxView",
       "box_style": "",
       "children": [
        "IPY_MODEL_351ee95cd60c453298f98c21a6183f28",
        "IPY_MODEL_ac8fde8875664de9b01c1ac9035128d9"
       ],
       "layout": "IPY_MODEL_9e8c82e2e70746a686e285c2539a070c"
      }
     },
     "351ee95cd60c453298f98c21a6183f28": {
      "model_module": "@jupyter-widgets/controls",
      "model_module_version": "1.5.0",
      "model_name": "IntProgressModel",
      "state": {
       "_dom_classes": [],
       "_model_module": "@jupyter-widgets/controls",
       "_model_module_version": "1.5.0",
       "_model_name": "IntProgressModel",
       "_view_count": null,
       "_view_module": "@jupyter-widgets/controls",
       "_view_module_version": "1.5.0",
       "_view_name": "ProgressView",
       "bar_style": "success",
       "description": "100%",
       "description_tooltip": null,
       "layout": "IPY_MODEL_5a12c5959e644353826639b78c8c8a43",
       "max": 346,
       "min": 0,
       "orientation": "horizontal",
       "style": "IPY_MODEL_089eaef2bc07496796928884ed36ad19",
       "value": 346
      }
     },
     "3c913dd1fdc448eca34c88eb02a12d3a": {
      "model_module": "@jupyter-widgets/controls",
      "model_module_version": "1.5.0",
      "model_name": "DescriptionStyleModel",
      "state": {
       "_model_module": "@jupyter-widgets/controls",
       "_model_module_version": "1.5.0",
       "_model_name": "DescriptionStyleModel",
       "_view_count": null,
       "_view_module": "@jupyter-widgets/base",
       "_view_module_version": "1.2.0",
       "_view_name": "StyleView",
       "description_width": ""
      }
     },
     "5a12c5959e644353826639b78c8c8a43": {
      "model_module": "@jupyter-widgets/base",
      "model_module_version": "1.2.0",
      "model_name": "LayoutModel",
      "state": {
       "_model_module": "@jupyter-widgets/base",
       "_model_module_version": "1.2.0",
       "_model_name": "LayoutModel",
       "_view_count": null,
       "_view_module": "@jupyter-widgets/base",
       "_view_module_version": "1.2.0",
       "_view_name": "LayoutView",
       "align_content": null,
       "align_items": null,
       "align_self": null,
       "border": null,
       "bottom": null,
       "display": null,
       "flex": null,
       "flex_flow": null,
       "grid_area": null,
       "grid_auto_columns": null,
       "grid_auto_flow": null,
       "grid_auto_rows": null,
       "grid_column": null,
       "grid_gap": null,
       "grid_row": null,
       "grid_template_areas": null,
       "grid_template_columns": null,
       "grid_template_rows": null,
       "height": null,
       "justify_content": null,
       "justify_items": null,
       "left": null,
       "margin": null,
       "max_height": null,
       "max_width": null,
       "min_height": null,
       "min_width": null,
       "object_fit": null,
       "object_position": null,
       "order": null,
       "overflow": null,
       "overflow_x": null,
       "overflow_y": null,
       "padding": null,
       "right": null,
       "top": null,
       "visibility": null,
       "width": null
      }
     },
     "9e8c82e2e70746a686e285c2539a070c": {
      "model_module": "@jupyter-widgets/base",
      "model_module_version": "1.2.0",
      "model_name": "LayoutModel",
      "state": {
       "_model_module": "@jupyter-widgets/base",
       "_model_module_version": "1.2.0",
       "_model_name": "LayoutModel",
       "_view_count": null,
       "_view_module": "@jupyter-widgets/base",
       "_view_module_version": "1.2.0",
       "_view_name": "LayoutView",
       "align_content": null,
       "align_items": null,
       "align_self": null,
       "border": null,
       "bottom": null,
       "display": null,
       "flex": null,
       "flex_flow": null,
       "grid_area": null,
       "grid_auto_columns": null,
       "grid_auto_flow": null,
       "grid_auto_rows": null,
       "grid_column": null,
       "grid_gap": null,
       "grid_row": null,
       "grid_template_areas": null,
       "grid_template_columns": null,
       "grid_template_rows": null,
       "height": null,
       "justify_content": null,
       "justify_items": null,
       "left": null,
       "margin": null,
       "max_height": null,
       "max_width": null,
       "min_height": null,
       "min_width": null,
       "object_fit": null,
       "object_position": null,
       "order": null,
       "overflow": null,
       "overflow_x": null,
       "overflow_y": null,
       "padding": null,
       "right": null,
       "top": null,
       "visibility": null,
       "width": null
      }
     },
     "ac8fde8875664de9b01c1ac9035128d9": {
      "model_module": "@jupyter-widgets/controls",
      "model_module_version": "1.5.0",
      "model_name": "HTMLModel",
      "state": {
       "_dom_classes": [],
       "_model_module": "@jupyter-widgets/controls",
       "_model_module_version": "1.5.0",
       "_model_name": "HTMLModel",
       "_view_count": null,
       "_view_module": "@jupyter-widgets/controls",
       "_view_module_version": "1.5.0",
       "_view_name": "HTMLView",
       "description": "",
       "description_tooltip": null,
       "layout": "IPY_MODEL_da192e65a2ba4b6dabb2ee5b6b725353",
       "placeholder": "​",
       "style": "IPY_MODEL_3c913dd1fdc448eca34c88eb02a12d3a",
       "value": " 346/346 [00:18&lt;00:00, 19.00it/s]"
      }
     },
     "da192e65a2ba4b6dabb2ee5b6b725353": {
      "model_module": "@jupyter-widgets/base",
      "model_module_version": "1.2.0",
      "model_name": "LayoutModel",
      "state": {
       "_model_module": "@jupyter-widgets/base",
       "_model_module_version": "1.2.0",
       "_model_name": "LayoutModel",
       "_view_count": null,
       "_view_module": "@jupyter-widgets/base",
       "_view_module_version": "1.2.0",
       "_view_name": "LayoutView",
       "align_content": null,
       "align_items": null,
       "align_self": null,
       "border": null,
       "bottom": null,
       "display": null,
       "flex": null,
       "flex_flow": null,
       "grid_area": null,
       "grid_auto_columns": null,
       "grid_auto_flow": null,
       "grid_auto_rows": null,
       "grid_column": null,
       "grid_gap": null,
       "grid_row": null,
       "grid_template_areas": null,
       "grid_template_columns": null,
       "grid_template_rows": null,
       "height": null,
       "justify_content": null,
       "justify_items": null,
       "left": null,
       "margin": null,
       "max_height": null,
       "max_width": null,
       "min_height": null,
       "min_width": null,
       "object_fit": null,
       "object_position": null,
       "order": null,
       "overflow": null,
       "overflow_x": null,
       "overflow_y": null,
       "padding": null,
       "right": null,
       "top": null,
       "visibility": null,
       "width": null
      }
     }
    },
    "version_major": 2,
    "version_minor": 0
   }
  }
 },
 "nbformat": 4,
 "nbformat_minor": 1
}
